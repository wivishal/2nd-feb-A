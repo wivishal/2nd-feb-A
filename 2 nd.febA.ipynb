{
 "cells": [
  {
   "cell_type": "code",
   "execution_count": 1,
   "id": "53f2e0f6-18fa-4286-8369-b431afec8013",
   "metadata": {},
   "outputs": [
    {
     "name": "stdout",
     "output_type": "stream",
     "text": [
      "3\n",
      "4\n",
      "5\n",
      "6\n",
      "7\n",
      "8\n",
      "9\n",
      "10\n"
     ]
    }
   ],
   "source": [
    "##Q1. Explain with an example each when to use a for loop and a while loop.\n",
    "## A for loop is used for iterating over a sequence (that is either a list, a tuple, a dictionary, a set, or a string).\n",
    "##Example\n",
    "l = [2,3,4,5,6,7,8,9]\n",
    "for i in l:\n",
    "    print(i+1)\n"
   ]
  },
  {
   "cell_type": "code",
   "execution_count": 2,
   "id": "40f0c419-bc12-4325-bcf6-54d78a934b00",
   "metadata": {},
   "outputs": [
    {
     "name": "stdout",
     "output_type": "stream",
     "text": [
      "1\n",
      "2\n",
      "3\n",
      "4\n",
      "5\n"
     ]
    }
   ],
   "source": [
    "##Ans. 1B\n",
    "## With the while loop we can execute a set of statements as long as a condition is true.\n",
    "##Example \n",
    "i = 1\n",
    "while i < 6:\n",
    "    print(i)\n",
    "    i = i+1"
   ]
  },
  {
   "cell_type": "code",
   "execution_count": 3,
   "id": "52eb6d7b-cc73-4caf-80ac-bccb24fbc2c2",
   "metadata": {},
   "outputs": [],
   "source": [
    "##Q2. Write a python program to print the sum and product of the first 10 natural numbers using for and while loop."
   ]
  },
  {
   "cell_type": "code",
   "execution_count": 4,
   "id": "1d3ff4b7-96bc-4341-8ffd-3f70008cd691",
   "metadata": {},
   "outputs": [
    {
     "name": "stdout",
     "output_type": "stream",
     "text": [
      "55\n"
     ]
    }
   ],
   "source": [
    "##python program to print sum of first 10 natural number using for loop\n",
    "sum = 0\n",
    "for i in range (1,11):\n",
    "    sum = sum + i\n",
    "print(sum)"
   ]
  },
  {
   "cell_type": "code",
   "execution_count": 5,
   "id": "b7081576-11cd-460c-a6b3-dbba70a69f6a",
   "metadata": {},
   "outputs": [
    {
     "name": "stdout",
     "output_type": "stream",
     "text": [
      "3628800\n"
     ]
    }
   ],
   "source": [
    "##python program to print product of first 10 natural number using for loop\n",
    "product = 1\n",
    "for i in range(1,11):\n",
    "    product = product *i\n",
    "print(product)\n",
    "    "
   ]
  },
  {
   "cell_type": "code",
   "execution_count": 6,
   "id": "db3e6d67-84bc-4643-b22a-eece9e895ca2",
   "metadata": {},
   "outputs": [
    {
     "name": "stdout",
     "output_type": "stream",
     "text": [
      "55\n"
     ]
    }
   ],
   "source": [
    "##python program to print sum of first 10 natural number using while loop\n",
    "n = 10\n",
    "sum = 0\n",
    "i = 1\n",
    "while i<= n:\n",
    "    sum = sum + i\n",
    "    i = i+1\n",
    "print(sum)"
   ]
  },
  {
   "cell_type": "code",
   "execution_count": 7,
   "id": "37a0d860-5963-48aa-b924-cda9f2416cea",
   "metadata": {},
   "outputs": [
    {
     "name": "stdout",
     "output_type": "stream",
     "text": [
      "3628800\n"
     ]
    }
   ],
   "source": [
    "##python program to print product of first 10 natural number using while loop\n",
    "n = 10\n",
    "product = 1\n",
    "i = 1\n",
    "while i<=10:\n",
    "    product = product * i\n",
    "    i = i+1\n",
    "print(product)"
   ]
  },
  {
   "cell_type": "code",
   "execution_count": 8,
   "id": "8a060861-1365-4c01-92e1-f835ca96897b",
   "metadata": {},
   "outputs": [],
   "source": [
    "##Q3. Create a python program to compute the electricity bill for a household.\n",
    "##The per-unit charges in rupees are as follows:\n",
    "##For the first 100 units, the user will be charged Rs. 4.5 per unit,\n",
    "##for the next 100 units, the user will be charged Rs. 6 per unit, and for the next 100 units,\n",
    "##the user will be charged Rs. 10 per unit, After 300 units and above the user will be charged Rs. 20 per unit."
   ]
  },
  {
   "cell_type": "code",
   "execution_count": 9,
   "id": "d2ccabe6-a4d8-4518-a9d7-04ab3a3895cf",
   "metadata": {},
   "outputs": [
    {
     "name": "stdin",
     "output_type": "stream",
     "text": [
      "Enter Consumption Unit 310\n"
     ]
    },
    {
     "name": "stdout",
     "output_type": "stream",
     "text": [
      "Total Bill: 2250.0\n"
     ]
    }
   ],
   "source": [
    "units = int(input(\"Enter Consumption Unit\"))\n",
    "if units <= 100:\n",
    "    charges = 100*4.5\n",
    "elif units>100 and units<200:\n",
    "    charges = 100*4.5 + (units - 100)*6\n",
    "elif units>200 and units<300:\n",
    "    charges = 100*4.5 + 100*6 + (units - 200)*10\n",
    "else:\n",
    "    charges = 100*4.5 + 100*6 + 100*10 +(units- 300)*20\n",
    "print(\"Total Bill:\" , charges)\n",
    "    \n"
   ]
  },
  {
   "cell_type": "code",
   "execution_count": 10,
   "id": "9ad49a84-6f4b-4bc1-98b2-8d731aeb8cfc",
   "metadata": {},
   "outputs": [],
   "source": [
    "##Q4. Create a list of numbers from 1 to 100. Use for loop and while loop to calculate the cube of each number and  \n",
    "##if the cube of that number is divisible by 4 or 5 then append that number in a list and print that list."
   ]
  },
  {
   "cell_type": "code",
   "execution_count": 11,
   "id": "7da0556a-5297-41c4-bbc7-c195871e9ff8",
   "metadata": {},
   "outputs": [],
   "source": [
    "l1 = list(range(1,101))"
   ]
  },
  {
   "cell_type": "code",
   "execution_count": 12,
   "id": "fb695767-842a-491c-9d14-5869a215b5de",
   "metadata": {},
   "outputs": [
    {
     "name": "stdout",
     "output_type": "stream",
     "text": [
      "[2, 4, 5, 6, 8, 10, 12, 14, 15, 16, 18, 20, 22, 24, 25, 26, 28, 30, 32, 34, 35, 36, 38, 40, 42, 44, 45, 46, 48, 50, 52, 54, 55, 56, 58, 60, 62, 64, 65, 66, 68, 70, 72, 74, 75, 76, 78, 80, 82, 84, 85, 86, 88, 90, 92, 94, 95, 96, 98, 100]\n"
     ]
    }
   ],
   "source": [
    "cubes = []\n",
    "for i in l1:\n",
    "    cube = i**3\n",
    "    if cube%4 == 0 or cube%5 == 0:\n",
    "        cubes.append(i)\n",
    "print(cubes)\n"
   ]
  },
  {
   "cell_type": "code",
   "execution_count": 13,
   "id": "18660a10-63ca-4670-9445-87625005da78",
   "metadata": {},
   "outputs": [
    {
     "name": "stdout",
     "output_type": "stream",
     "text": [
      "[2, 4, 5, 6, 8, 10, 12, 14, 15, 16, 18, 20, 22, 24, 25, 26, 28, 30, 32, 34, 35, 36, 38, 40, 42, 44, 45, 46, 48, 50, 52, 54, 55, 56, 58, 60, 62, 64, 65, 66, 68, 70, 72, 74, 75, 76, 78, 80, 82, 84, 85, 86, 88, 90, 92, 94, 95, 96, 98, 100]\n"
     ]
    }
   ],
   "source": [
    "cubes = []\n",
    "i = 1\n",
    "while i<= 100:\n",
    "    cube = i**3\n",
    "    if cube%4 == 0 or cube%5 == 0:\n",
    "        cubes.append(i)\n",
    "    i = i+1\n",
    "print(cubes)"
   ]
  },
  {
   "cell_type": "code",
   "execution_count": 14,
   "id": "74551008-1aab-4478-be41-ca43495d4907",
   "metadata": {},
   "outputs": [],
   "source": [
    "##Q5. Write a program to filter count vowels in the below-given string.\n",
    "##string = \"I want to become a data scientist\""
   ]
  },
  {
   "cell_type": "code",
   "execution_count": 15,
   "id": "874e90d1-d713-4dd3-bc3a-9e20384a8960",
   "metadata": {},
   "outputs": [
    {
     "name": "stdout",
     "output_type": "stream",
     "text": [
      "12\n"
     ]
    }
   ],
   "source": [
    "s =  \"I want to become a data scientist\"\n",
    "vowel = \"aeiouAEIOU\"\n",
    "\n",
    "count = 0\n",
    "for i in s:\n",
    "    if i in vowel :\n",
    "        count = count+1\n",
    "print(count)"
   ]
  },
  {
   "cell_type": "code",
   "execution_count": null,
   "id": "cd36cf52-cffc-49c0-9f56-04b05278973e",
   "metadata": {},
   "outputs": [],
   "source": []
  }
 ],
 "metadata": {
  "kernelspec": {
   "display_name": "Python 3 (ipykernel)",
   "language": "python",
   "name": "python3"
  },
  "language_info": {
   "codemirror_mode": {
    "name": "ipython",
    "version": 3
   },
   "file_extension": ".py",
   "mimetype": "text/x-python",
   "name": "python",
   "nbconvert_exporter": "python",
   "pygments_lexer": "ipython3",
   "version": "3.10.6"
  }
 },
 "nbformat": 4,
 "nbformat_minor": 5
}
